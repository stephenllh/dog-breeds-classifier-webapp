{
  "nbformat": 4,
  "nbformat_minor": 0,
  "metadata": {
    "colab": {
      "name": "Copy of pet_breeds.ipynb",
      "provenance": [],
      "collapsed_sections": []
    },
    "kernelspec": {
      "name": "python3",
      "display_name": "Python 3"
    },
    "accelerator": "GPU",
    "widgets": {
      "application/vnd.jupyter.widget-state+json": {
        "87486ac7fe784e80ae5dd8d0bd0a7616": {
          "model_module": "@jupyter-widgets/controls",
          "model_name": "FileUploadModel",
          "state": {
            "_view_name": "FileUploadView",
            "_counter": 1,
            "style": "IPY_MODEL_cfb8b1be16b84a579c02315be67cb676",
            "_dom_classes": [],
            "description": "Upload",
            "multiple": false,
            "_model_name": "FileUploadModel",
            "data": [
              null
            ],
            "button_style": "",
            "_view_module": "@jupyter-widgets/controls",
            "_model_module_version": "1.5.0",
            "accept": "",
            "_view_count": null,
            "disabled": false,
            "_view_module_version": "1.5.0",
            "error": "",
            "description_tooltip": null,
            "metadata": [
              {
                "name": "iu.jpg",
                "type": "image/jpeg",
                "size": 3914,
                "lastModified": 1587561007744
              }
            ],
            "_model_module": "@jupyter-widgets/controls",
            "layout": "IPY_MODEL_a5ed6d0445a44a4084c1d2bfbd3668fe",
            "icon": "upload"
          }
        },
        "cfb8b1be16b84a579c02315be67cb676": {
          "model_module": "@jupyter-widgets/controls",
          "model_name": "ButtonStyleModel",
          "state": {
            "_view_name": "StyleView",
            "_model_name": "ButtonStyleModel",
            "_view_module": "@jupyter-widgets/base",
            "_model_module_version": "1.5.0",
            "_view_count": null,
            "button_color": null,
            "font_weight": "",
            "_view_module_version": "1.2.0",
            "_model_module": "@jupyter-widgets/controls"
          }
        },
        "a5ed6d0445a44a4084c1d2bfbd3668fe": {
          "model_module": "@jupyter-widgets/base",
          "model_name": "LayoutModel",
          "state": {
            "_view_name": "LayoutView",
            "grid_template_rows": null,
            "right": null,
            "justify_content": null,
            "_view_module": "@jupyter-widgets/base",
            "overflow": null,
            "_model_module_version": "1.2.0",
            "_view_count": null,
            "flex_flow": null,
            "width": null,
            "min_width": null,
            "border": null,
            "align_items": null,
            "bottom": null,
            "_model_module": "@jupyter-widgets/base",
            "top": null,
            "grid_column": null,
            "overflow_y": null,
            "overflow_x": null,
            "grid_auto_flow": null,
            "grid_area": null,
            "grid_template_columns": null,
            "flex": null,
            "_model_name": "LayoutModel",
            "justify_items": null,
            "grid_row": null,
            "max_height": null,
            "align_content": null,
            "visibility": null,
            "align_self": null,
            "height": null,
            "min_height": null,
            "padding": null,
            "grid_auto_rows": null,
            "grid_gap": null,
            "max_width": null,
            "order": null,
            "_view_module_version": "1.2.0",
            "grid_template_areas": null,
            "object_position": null,
            "object_fit": null,
            "grid_auto_columns": null,
            "margin": null,
            "display": null,
            "left": null
          }
        },
        "6e5fe13b8ad34894944e86a6ee71e589": {
          "model_module": "@jupyter-widgets/output",
          "model_name": "OutputModel",
          "state": {
            "_view_name": "OutputView",
            "msg_id": "",
            "_dom_classes": [],
            "_model_name": "OutputModel",
            "outputs": [
              {
                "output_type": "display_data",
                "metadata": {
                  "tags": []
                },
                "image/png": "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\n",
                "text/plain": "<PIL.Image.Image image mode=RGB size=128x74 at 0x7F8023CB7E80>"
              }
            ],
            "_view_module": "@jupyter-widgets/output",
            "_model_module_version": "1.0.0",
            "_view_count": null,
            "_view_module_version": "1.0.0",
            "layout": "IPY_MODEL_23d62803cb934b85858ec09f899ff011",
            "_model_module": "@jupyter-widgets/output"
          }
        },
        "23d62803cb934b85858ec09f899ff011": {
          "model_module": "@jupyter-widgets/base",
          "model_name": "LayoutModel",
          "state": {
            "_view_name": "LayoutView",
            "grid_template_rows": null,
            "right": null,
            "justify_content": null,
            "_view_module": "@jupyter-widgets/base",
            "overflow": null,
            "_model_module_version": "1.2.0",
            "_view_count": null,
            "flex_flow": null,
            "width": null,
            "min_width": null,
            "border": null,
            "align_items": null,
            "bottom": null,
            "_model_module": "@jupyter-widgets/base",
            "top": null,
            "grid_column": null,
            "overflow_y": null,
            "overflow_x": null,
            "grid_auto_flow": null,
            "grid_area": null,
            "grid_template_columns": null,
            "flex": null,
            "_model_name": "LayoutModel",
            "justify_items": null,
            "grid_row": null,
            "max_height": null,
            "align_content": null,
            "visibility": null,
            "align_self": null,
            "height": null,
            "min_height": null,
            "padding": null,
            "grid_auto_rows": null,
            "grid_gap": null,
            "max_width": null,
            "order": null,
            "_view_module_version": "1.2.0",
            "grid_template_areas": null,
            "object_position": null,
            "object_fit": null,
            "grid_auto_columns": null,
            "margin": null,
            "display": null,
            "left": null
          }
        },
        "ec1dfabf07ea4021a2876e7515455c9d": {
          "model_module": "@jupyter-widgets/controls",
          "model_name": "LabelModel",
          "state": {
            "_view_name": "LabelView",
            "style": "IPY_MODEL_71e0b936f967435d86d5eb75c907ce83",
            "_dom_classes": [],
            "description": "",
            "_model_name": "LabelModel",
            "placeholder": "​",
            "_view_module": "@jupyter-widgets/controls",
            "_model_module_version": "1.5.0",
            "value": "Prediction: Bombay; Probability: 0.4010",
            "_view_count": null,
            "_view_module_version": "1.5.0",
            "description_tooltip": null,
            "_model_module": "@jupyter-widgets/controls",
            "layout": "IPY_MODEL_9cb702787a9e412798adfc500c915428"
          }
        },
        "71e0b936f967435d86d5eb75c907ce83": {
          "model_module": "@jupyter-widgets/controls",
          "model_name": "DescriptionStyleModel",
          "state": {
            "_view_name": "StyleView",
            "_model_name": "DescriptionStyleModel",
            "description_width": "",
            "_view_module": "@jupyter-widgets/base",
            "_model_module_version": "1.5.0",
            "_view_count": null,
            "_view_module_version": "1.2.0",
            "_model_module": "@jupyter-widgets/controls"
          }
        },
        "9cb702787a9e412798adfc500c915428": {
          "model_module": "@jupyter-widgets/base",
          "model_name": "LayoutModel",
          "state": {
            "_view_name": "LayoutView",
            "grid_template_rows": null,
            "right": null,
            "justify_content": null,
            "_view_module": "@jupyter-widgets/base",
            "overflow": null,
            "_model_module_version": "1.2.0",
            "_view_count": null,
            "flex_flow": null,
            "width": null,
            "min_width": null,
            "border": null,
            "align_items": null,
            "bottom": null,
            "_model_module": "@jupyter-widgets/base",
            "top": null,
            "grid_column": null,
            "overflow_y": null,
            "overflow_x": null,
            "grid_auto_flow": null,
            "grid_area": null,
            "grid_template_columns": null,
            "flex": null,
            "_model_name": "LayoutModel",
            "justify_items": null,
            "grid_row": null,
            "max_height": null,
            "align_content": null,
            "visibility": null,
            "align_self": null,
            "height": null,
            "min_height": null,
            "padding": null,
            "grid_auto_rows": null,
            "grid_gap": null,
            "max_width": null,
            "order": null,
            "_view_module_version": "1.2.0",
            "grid_template_areas": null,
            "object_position": null,
            "object_fit": null,
            "grid_auto_columns": null,
            "margin": null,
            "display": null,
            "left": null
          }
        },
        "e715b378fe9443a8ad7bce06cf57e4f9": {
          "model_module": "@jupyter-widgets/controls",
          "model_name": "ButtonModel",
          "state": {
            "_view_name": "ButtonView",
            "style": "IPY_MODEL_ad6d4092d4f745ef8efec385610d312d",
            "_dom_classes": [],
            "description": "Classify",
            "_model_name": "ButtonModel",
            "button_style": "",
            "_view_module": "@jupyter-widgets/controls",
            "_model_module_version": "1.5.0",
            "tooltip": "",
            "_view_count": null,
            "disabled": false,
            "_view_module_version": "1.5.0",
            "layout": "IPY_MODEL_c98ee13a8a9f441986610062c704cd6a",
            "_model_module": "@jupyter-widgets/controls",
            "icon": ""
          }
        },
        "ad6d4092d4f745ef8efec385610d312d": {
          "model_module": "@jupyter-widgets/controls",
          "model_name": "ButtonStyleModel",
          "state": {
            "_view_name": "StyleView",
            "_model_name": "ButtonStyleModel",
            "_view_module": "@jupyter-widgets/base",
            "_model_module_version": "1.5.0",
            "_view_count": null,
            "button_color": null,
            "font_weight": "",
            "_view_module_version": "1.2.0",
            "_model_module": "@jupyter-widgets/controls"
          }
        },
        "c98ee13a8a9f441986610062c704cd6a": {
          "model_module": "@jupyter-widgets/base",
          "model_name": "LayoutModel",
          "state": {
            "_view_name": "LayoutView",
            "grid_template_rows": null,
            "right": null,
            "justify_content": null,
            "_view_module": "@jupyter-widgets/base",
            "overflow": null,
            "_model_module_version": "1.2.0",
            "_view_count": null,
            "flex_flow": null,
            "width": null,
            "min_width": null,
            "border": null,
            "align_items": null,
            "bottom": null,
            "_model_module": "@jupyter-widgets/base",
            "top": null,
            "grid_column": null,
            "overflow_y": null,
            "overflow_x": null,
            "grid_auto_flow": null,
            "grid_area": null,
            "grid_template_columns": null,
            "flex": null,
            "_model_name": "LayoutModel",
            "justify_items": null,
            "grid_row": null,
            "max_height": null,
            "align_content": null,
            "visibility": null,
            "align_self": null,
            "height": null,
            "min_height": null,
            "padding": null,
            "grid_auto_rows": null,
            "grid_gap": null,
            "max_width": null,
            "order": null,
            "_view_module_version": "1.2.0",
            "grid_template_areas": null,
            "object_position": null,
            "object_fit": null,
            "grid_auto_columns": null,
            "margin": null,
            "display": null,
            "left": null
          }
        }
      }
    }
  },
  "cells": [
    {
      "cell_type": "code",
      "metadata": {
        "id": "POd3WHW9lXmU",
        "colab_type": "code",
        "outputId": "cdcd9354-9162-4039-9cc3-30657bc0914c",
        "colab": {
          "base_uri": "https://localhost:8080/",
          "height": 35
        }
      },
      "source": [
        "!pip -qq install fastai2"
      ],
      "execution_count": 0,
      "outputs": [
        {
          "output_type": "stream",
          "text": [
            "\u001b[?25l\r\u001b[K     |█▉                              | 10kB 35.2MB/s eta 0:00:01\r\u001b[K     |███▋                            | 20kB 6.0MB/s eta 0:00:01\r\u001b[K     |█████▍                          | 30kB 8.5MB/s eta 0:00:01\r\u001b[K     |███████▏                        | 40kB 10.7MB/s eta 0:00:01\r\u001b[K     |█████████                       | 51kB 7.0MB/s eta 0:00:01\r\u001b[K     |██████████▊                     | 61kB 8.2MB/s eta 0:00:01\r\u001b[K     |████████████▌                   | 71kB 9.3MB/s eta 0:00:01\r\u001b[K     |██████████████▎                 | 81kB 10.3MB/s eta 0:00:01\r\u001b[K     |████████████████                | 92kB 8.3MB/s eta 0:00:01\r\u001b[K     |█████████████████▉              | 102kB 9.0MB/s eta 0:00:01\r\u001b[K     |███████████████████▋            | 112kB 9.0MB/s eta 0:00:01\r\u001b[K     |█████████████████████▍          | 122kB 9.0MB/s eta 0:00:01\r\u001b[K     |███████████████████████▏        | 133kB 9.0MB/s eta 0:00:01\r\u001b[K     |█████████████████████████       | 143kB 9.0MB/s eta 0:00:01\r\u001b[K     |██████████████████████████▊     | 153kB 9.0MB/s eta 0:00:01\r\u001b[K     |████████████████████████████▌   | 163kB 9.0MB/s eta 0:00:01\r\u001b[K     |██████████████████████████████▎ | 174kB 9.0MB/s eta 0:00:01\r\u001b[K     |████████████████████████████████| 184kB 9.0MB/s \n",
            "\u001b[?25h"
          ],
          "name": "stdout"
        }
      ]
    },
    {
      "cell_type": "code",
      "metadata": {
        "id": "BtQJgebjlygb",
        "colab_type": "code",
        "colab": {}
      },
      "source": [
        "from fastai2.vision.all import *\n",
        "from fastai2.vision.widgets import *"
      ],
      "execution_count": 0,
      "outputs": []
    },
    {
      "cell_type": "code",
      "metadata": {
        "id": "g7JGw6PclyjH",
        "colab_type": "code",
        "outputId": "7db8e9cb-6431-4176-ffae-7a4f7b5fb85c",
        "colab": {
          "base_uri": "https://localhost:8080/",
          "height": 17
        }
      },
      "source": [
        "PATH = untar_data(URLs.PETS)"
      ],
      "execution_count": 0,
      "outputs": [
        {
          "output_type": "display_data",
          "data": {
            "text/html": [
              ""
            ],
            "text/plain": [
              "<IPython.core.display.HTML object>"
            ]
          },
          "metadata": {
            "tags": []
          }
        }
      ]
    },
    {
      "cell_type": "markdown",
      "metadata": {
        "id": "FC_OnI6omPpF",
        "colab_type": "text"
      },
      "source": [
        "To use Pathlib"
      ]
    },
    {
      "cell_type": "code",
      "metadata": {
        "id": "fpxOIIh-lyoS",
        "colab_type": "code",
        "outputId": "1db7d27e-0b95-43d4-8a8c-b58227bf48d2",
        "colab": {
          "base_uri": "https://localhost:8080/",
          "height": 35
        }
      },
      "source": [
        "Path.BASE_PATH = PATH"
      ],
      "execution_count": 0,
      "outputs": [
        {
          "output_type": "execute_result",
          "data": {
            "text/plain": [
              "(#2) [Path('annotations'),Path('images')]"
            ]
          },
          "metadata": {
            "tags": []
          },
          "execution_count": 11
        }
      ]
    },
    {
      "cell_type": "code",
      "metadata": {
        "id": "krQxH_Ucm4rt",
        "colab_type": "code",
        "colab": {}
      },
      "source": [
        "data = DataBlock(blocks=(ImageBlock, CategoryBlock),\n",
        "                 get_items=get_image_files,\n",
        "                 splitter=RandomSplitter(seed=42),\n",
        "                 get_y=using_attr(RegexLabeller(r'(.+)_\\d+.jpg$'), 'name'),\n",
        "                 item_tfms=Resize(460), # Crop full width or height. It is applied to each individual image before it is copied to the GPU. \n",
        "                                        # It is used to ensure all images are the same size. On the training set, the crop area is chosen randomly. \n",
        "                                        # On the validation set, the center square of the image is always chosen.\n",
        "                 batch_tfms=aug_transforms(size=224, min_scale=0.75)) # Random crop and augment. It is applied to a batch all at once on the GPU, which means it's fast. \n",
        "                                                                      # On the validation set, only the resize to the final size needed for the model is done here. \n",
        "                                                                      # On the training set, the random crop and any other augmentation is done first.\n",
        "dls = data.dataloaders(PATH/'images')"
      ],
      "execution_count": 0,
      "outputs": []
    },
    {
      "cell_type": "code",
      "metadata": {
        "id": "_5iGfQSX9rbF",
        "colab_type": "code",
        "colab": {}
      },
      "source": [
        "learn_inf = load_learner('export.pkl')"
      ],
      "execution_count": 0,
      "outputs": []
    },
    {
      "cell_type": "code",
      "metadata": {
        "id": "b89pM_Bp9ALd",
        "colab_type": "code",
        "outputId": "96fbeb23-5e92-4df0-f7eb-a0b347eb6d1d",
        "colab": {
          "base_uri": "https://localhost:8080/",
          "height": 49,
          "referenced_widgets": [
            "87486ac7fe784e80ae5dd8d0bd0a7616",
            "cfb8b1be16b84a579c02315be67cb676",
            "a5ed6d0445a44a4084c1d2bfbd3668fe"
          ]
        }
      },
      "source": [
        "\n",
        "\n",
        "btn_upload = widgets.FileUpload()\n",
        "btn_upload"
      ],
      "execution_count": 0,
      "outputs": [
        {
          "output_type": "display_data",
          "data": {
            "application/vnd.jupyter.widget-view+json": {
              "model_id": "87486ac7fe784e80ae5dd8d0bd0a7616",
              "version_minor": 0,
              "version_major": 2
            },
            "text/plain": [
              "FileUpload(value={}, description='Upload')"
            ]
          },
          "metadata": {
            "tags": []
          }
        }
      ]
    },
    {
      "cell_type": "code",
      "metadata": {
        "id": "qLJzWHQY9YNL",
        "colab_type": "code",
        "colab": {}
      },
      "source": [
        "img = PILImage.create(btn_upload.data[-1])"
      ],
      "execution_count": 0,
      "outputs": []
    },
    {
      "cell_type": "code",
      "metadata": {
        "id": "dZau_BK89AQ6",
        "colab_type": "code",
        "outputId": "d6b221c5-0b66-49cb-f1bc-6d2a8b4ff268",
        "colab": {
          "base_uri": "https://localhost:8080/",
          "height": 91,
          "referenced_widgets": [
            "6e5fe13b8ad34894944e86a6ee71e589",
            "23d62803cb934b85858ec09f899ff011"
          ]
        }
      },
      "source": [
        "out_pl = widgets.Output()\n",
        "out_pl.clear_output()\n",
        "with out_pl: display(img.to_thumb(128,128))\n",
        "out_pl"
      ],
      "execution_count": 0,
      "outputs": [
        {
          "output_type": "display_data",
          "data": {
            "application/vnd.jupyter.widget-view+json": {
              "model_id": "6e5fe13b8ad34894944e86a6ee71e589",
              "version_minor": 0,
              "version_major": 2
            },
            "text/plain": [
              "Output()"
            ]
          },
          "metadata": {
            "tags": []
          }
        }
      ]
    },
    {
      "cell_type": "code",
      "metadata": {
        "id": "cQg7Fk6t97Ic",
        "colab_type": "code",
        "outputId": "7fb76d7e-68ad-4543-88d7-819e45abffa3",
        "colab": {
          "base_uri": "https://localhost:8080/",
          "height": 17
        }
      },
      "source": [
        "pred, pred_idx, probs = learn_inf.predict(img)"
      ],
      "execution_count": 0,
      "outputs": [
        {
          "output_type": "display_data",
          "data": {
            "text/html": [
              ""
            ],
            "text/plain": [
              "<IPython.core.display.HTML object>"
            ]
          },
          "metadata": {
            "tags": []
          }
        }
      ]
    },
    {
      "cell_type": "code",
      "metadata": {
        "id": "B2yLJNlp94st",
        "colab_type": "code",
        "outputId": "a142fece-1e3a-439c-90b1-01e2e60a2778",
        "colab": {
          "base_uri": "https://localhost:8080/",
          "height": 49,
          "referenced_widgets": [
            "ec1dfabf07ea4021a2876e7515455c9d",
            "71e0b936f967435d86d5eb75c907ce83",
            "9cb702787a9e412798adfc500c915428"
          ]
        }
      },
      "source": [
        "lbl_pred = widgets.Label()\n",
        "lbl_pred.value = f'Prediction: {pred}; Probability: {probs[pred_idx]:.04f}'\n",
        "lbl_pred"
      ],
      "execution_count": 0,
      "outputs": [
        {
          "output_type": "display_data",
          "data": {
            "application/vnd.jupyter.widget-view+json": {
              "model_id": "ec1dfabf07ea4021a2876e7515455c9d",
              "version_minor": 0,
              "version_major": 2
            },
            "text/plain": [
              "Label(value='Prediction: Bombay; Probability: 0.4010')"
            ]
          },
          "metadata": {
            "tags": []
          }
        }
      ]
    },
    {
      "cell_type": "code",
      "metadata": {
        "id": "1sioPmDE9ATA",
        "colab_type": "code",
        "outputId": "8fdb5cde-8da4-49b9-ae0f-2b161779b664",
        "colab": {
          "base_uri": "https://localhost:8080/",
          "height": 49,
          "referenced_widgets": [
            "e715b378fe9443a8ad7bce06cf57e4f9",
            "ad6d4092d4f745ef8efec385610d312d",
            "c98ee13a8a9f441986610062c704cd6a"
          ]
        }
      },
      "source": [
        "btn_run = widgets.Button(description='Classify')\n",
        "btn_run"
      ],
      "execution_count": 0,
      "outputs": [
        {
          "output_type": "display_data",
          "data": {
            "application/vnd.jupyter.widget-view+json": {
              "model_id": "e715b378fe9443a8ad7bce06cf57e4f9",
              "version_minor": 0,
              "version_major": 2
            },
            "text/plain": [
              "Button(description='Classify', style=ButtonStyle())"
            ]
          },
          "metadata": {
            "tags": []
          }
        },
        {
          "output_type": "display_data",
          "data": {
            "text/html": [
              ""
            ],
            "text/plain": [
              "<IPython.core.display.HTML object>"
            ]
          },
          "metadata": {
            "tags": []
          }
        },
        {
          "output_type": "display_data",
          "data": {
            "text/html": [
              ""
            ],
            "text/plain": [
              "<IPython.core.display.HTML object>"
            ]
          },
          "metadata": {
            "tags": []
          }
        }
      ]
    },
    {
      "cell_type": "code",
      "metadata": {
        "id": "vEHbXrKy9AOB",
        "colab_type": "code",
        "colab": {}
      },
      "source": [
        "def on_click_classify(change):\n",
        "    img = PILImage.create(btn_upload.data[-1])\n",
        "    out_pl.clear_output()\n",
        "    with out_pl: display(img.to_thumb(128,128))\n",
        "    pred,pred_idx,probs = learn_inf.predict(img)\n",
        "    lbl_pred.value = f'Prediction: {pred}; Probability: {probs[pred_idx]:.04f}'\n",
        "\n",
        "btn_run.on_click(on_click_classify)"
      ],
      "execution_count": 0,
      "outputs": []
    }
  ]
}